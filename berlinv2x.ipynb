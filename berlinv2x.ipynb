{
 "cells": [
  {
   "cell_type": "code",
   "execution_count": null,
   "metadata": {},
   "outputs": [],
   "source": [
    "import pandas as pd\n",
    "import numpy as np\n",
    "\n",
    "pd.set_option(\"display.max_columns\", None)\n",
    "pd.set_option(\"display.max_rows\", None)"
   ]
  },
  {
   "cell_type": "code",
   "execution_count": null,
   "metadata": {},
   "outputs": [],
   "source": [
    "#https://github.com/fraunhoferhhi/BerlinV2X\n",
    "sidelink='/data22/bde/Data/BerlinV2X/sidelink_dataframe.parquet'\n",
    "cellular='/data22/bde/Data/BerlinV2X/cellular_dataframe.parquet'\n",
    "df = pd.read_parquet(cellular)\n",
    "#df.info(verbose=True)\n",
    "#df.head()"
   ]
  },
  {
   "cell_type": "code",
   "execution_count": null,
   "metadata": {},
   "outputs": [],
   "source": [
    "df_pc1 = df[df['device'] == 'pc1']\n",
    "df_pc2 = df[df['device'] == 'pc2']\n",
    "df_pc3 = df[df['device'] == 'pc3']\n",
    "df_pc4 = df[df['device'] == 'pc4']\n",
    "#df_pc?.info()\n",
    "selected_df = df_pc1"
   ]
  },
  {
   "cell_type": "code",
   "execution_count": null,
   "metadata": {},
   "outputs": [],
   "source": [
    "#df = df.drop(columns=['device', 'ping_ms'])\n",
    "df_new = selected_df[['datarate', 'PCell_RSRP_1','PCell_RSRP_2','PCell_RSRQ_1','PCell_RSRQ_2','PCell_RSSI_1','PCell_RSSI_2','PCell_SNR_1','PCell_SNR_2', 'operator']]\n",
    "df_new.dropna(inplace=True)\n",
    "df_new.info()"
   ]
  },
  {
   "cell_type": "code",
   "execution_count": null,
   "metadata": {},
   "outputs": [],
   "source": [
    "#df_new.head(100)\n",
    "df_new.to_csv(f'data/BERLINV2X/test.csv', encoding='utf-8', index=False)\n",
    "#df_new.describe()"
   ]
  },
  {
   "cell_type": "code",
   "execution_count": null,
   "metadata": {},
   "outputs": [],
   "source": [
    "df_new['datetime'] = df_new.index\n",
    "\n",
    "groups=(df_new['datetime'].diff()>pd.Timedelta(seconds=1)).cumsum()+1\n",
    "max_len = 0\n",
    "continous_groups = []\n",
    "for i , group in df_new.groupby(groups):\n",
    "    if len(group) > 4096:\n",
    "        max_len = len(group)\n",
    "        continous_groups.append(group)\n",
    "        print(len(group))\n",
    "for group in continous_groups:\n",
    "    group.info()"
   ]
  },
  {
   "cell_type": "code",
   "execution_count": null,
   "metadata": {},
   "outputs": [],
   "source": [
    "longest = continous_groups[0]\n",
    "longest.head()"
   ]
  },
  {
   "cell_type": "code",
   "execution_count": null,
   "metadata": {},
   "outputs": [],
   "source": [
    "df.plot(figsize=(30,20))"
   ]
  },
  {
   "cell_type": "code",
   "execution_count": null,
   "metadata": {},
   "outputs": [],
   "source": [
    "df = df[['datarate', 'PCell_RSRP_1', 'PCell_RSRP_2', 'PCell_RSRQ_1', 'PCell_RSRQ_2', 'PCell_RSSI_1', 'PCell_RSSI_2', 'PCell_SNR_1', 'PCell_SNR_2', 'PCell_Cell_ID', 'PCell_Cell_Identity', 'SCell_Cell_ID', 'SCell_Cell_Identity', 'operator']]\n",
    "df.info()"
   ]
  },
  {
   "cell_type": "code",
   "execution_count": null,
   "metadata": {},
   "outputs": [],
   "source": [
    "df.head(100)"
   ]
  },
  {
   "cell_type": "code",
   "execution_count": null,
   "metadata": {},
   "outputs": [],
   "source": [
    "df.info(verbose=True)"
   ]
  },
  {
   "cell_type": "code",
   "execution_count": null,
   "metadata": {},
   "outputs": [],
   "source": [
    "df.head()"
   ]
  },
  {
   "cell_type": "code",
   "execution_count": null,
   "metadata": {},
   "outputs": [],
   "source": []
  }
 ],
 "metadata": {
  "kernelspec": {
   "display_name": "informer2020",
   "language": "python",
   "name": "informer2020"
  },
  "language_info": {
   "codemirror_mode": {
    "name": "ipython",
    "version": 3
   },
   "file_extension": ".py",
   "mimetype": "text/x-python",
   "name": "python",
   "nbconvert_exporter": "python",
   "pygments_lexer": "ipython3",
   "version": "3.11.3"
  },
  "orig_nbformat": 4
 },
 "nbformat": 4,
 "nbformat_minor": 2
}
