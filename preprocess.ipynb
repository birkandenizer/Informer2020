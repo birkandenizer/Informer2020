{
 "cells": [
  {
   "cell_type": "code",
   "execution_count": null,
   "metadata": {},
   "outputs": [],
   "source": [
    "import pandas as pd\n",
    "import numpy as np\n",
    "import os\n",
    "cwd = os.getcwd()\n",
    "cwd"
   ]
  },
  {
   "cell_type": "code",
   "execution_count": null,
   "metadata": {},
   "outputs": [],
   "source": [
    "def NRZ_maker(values):\n",
    "    NRZ = []\n",
    "    state = None\n",
    "    prior = values[0]\n",
    "\n",
    "    for bit in values:\n",
    "        if bit == prior:\n",
    "            state = 1.0\n",
    "        else:\n",
    "            state = 0.0\n",
    "        NRZ.append(state)\n",
    "    return NRZ"
   ]
  },
  {
   "cell_type": "code",
   "execution_count": null,
   "metadata": {},
   "outputs": [],
   "source": [
    "test_array = np.array([6, 6, 6, 12, 12, 12, 6, 12, 12, 12, 6, 12, 12, 12, 6, 12, 12, 12, 6, 12, 12, 12, 6, 12, 12, 12, 6, 12, 12])\n",
    "test_df = pd.DataFrame({'values': test_array})\n",
    "values = test_df['values'].tolist()\n",
    "\n",
    "NRZ = []\n",
    "state = 0\n",
    "prior = values[0]\n",
    "for bit in values:\n",
    "    if bit == prior:\n",
    "        state = 1.0\n",
    "    else:\n",
    "        state = 0.0\n",
    "    NRZ.append(state)\n",
    "#NRZ\n",
    "\n",
    "test_df['NRZ'] = NRZ\n",
    "test_df.head()"
   ]
  },
  {
   "cell_type": "code",
   "execution_count": null,
   "metadata": {},
   "outputs": [],
   "source": [
    "values = test_df['values'].tolist()\n",
    "test_df['NRZ2'] = NRZ_maker(values)\n",
    "test_df.head()"
   ]
  },
  {
   "cell_type": "code",
   "execution_count": null,
   "metadata": {},
   "outputs": [],
   "source": [
    "PATH = '/data22/bde'\n",
    "netflix_StrangerThings = f'{PATH}/Data/5Gdataset-master/5G-production-dataset/Netflix/Driving/Season3-StrangerThings/'\n",
    "netflix_animated_RickandMorty = f'{PATH}/Data/5Gdataset-master/5G-production-dataset/Netflix/Driving/animated-RickandMorty/'\n",
    "amazon_TheExpanse = f'{PATH}/Data/5Gdataset-master/5G-production-dataset/Amazon_Prime/Driving/Season3-TheExpanse/'\n",
    "amazon_animated_AdventureTime = f'{PATH}/Data/5Gdataset-master/5G-production-dataset/Amazon_Prime/Driving/animated-AdventureTime/'\n",
    "download = f'{PATH}/Data/5Gdataset-master/5G-production-dataset/Download/Driving/'\n",
    "df_list = []\n",
    "file_dir = download\n",
    "\n",
    "for file in os.listdir(file_dir)[:]:\n",
    "    print(file)\n",
    "    df = pd.read_csv(file_dir+file)\n",
    "\n",
    "    values = df['CellID'].tolist()\n",
    "    df['NRZ'] = NRZ_maker(values)\n",
    "\n",
    "    #df['CellIDChange'] = (df['CellID'] != df['CellID'].shift()).astype('float32')\n",
    "\n",
    "    df = df[['Timestamp', 'CellID', 'NRZ', 'RSRP', 'RSRQ', 'SNR', 'CQI', 'RSSI', 'DL_bitrate', 'UL_bitrate']]\n",
    "    df = df.replace('-', np.nan)\n",
    "    \n",
    "    df['date'] = pd.to_datetime(df['Timestamp'], format=\"%Y.%m.%d_%H.%M.%S\")\n",
    "    df = df.drop(columns=['Timestamp'])\n",
    "\n",
    "    df['CellID'] = pd.to_numeric(df['CellID'], downcast='float')\n",
    "    df['RSRP'] = pd.to_numeric(df['RSRP'], downcast='float')\n",
    "    df['RSRQ'] = pd.to_numeric(df['RSRQ'], downcast='float')\n",
    "    df['SNR'] = pd.to_numeric(df['SNR'], downcast='float')\n",
    "    df['CQI'] = pd.to_numeric(df['CQI'], downcast='float')\n",
    "    df['RSSI'] = pd.to_numeric(df['RSSI'], downcast='float')\n",
    "    df['DL_bitrate'] = pd.to_numeric(df['DL_bitrate'], downcast='float')\n",
    "    df['UL_bitrate'] = pd.to_numeric(df['UL_bitrate'], downcast='float')\n",
    "\n",
    "    df.fillna(method='ffill', inplace=True)\n",
    "    df.fillna('0', inplace=True)\n",
    "\n",
    "    df.drop_duplicates(subset=['date'], inplace=True)\n",
    "    df.info()\n",
    "    #df.info(show_counts=True)\n",
    "    print(df.head(30))\n",
    "    #df.plot(subplots=True, layout=(3,3), figsize=(40, 25))\n",
    "    #df.to_csv('5Gdataset-{}.csv'.format(file), encoding='utf-8', index=False)\n",
    "    df_list.append(df)"
   ]
  },
  {
   "cell_type": "code",
   "execution_count": null,
   "metadata": {},
   "outputs": [],
   "source": [
    "df = pd.concat(df_list, axis=0)\n",
    "df.sort_values('date', inplace=True)\n",
    "df.info()"
   ]
  },
  {
   "cell_type": "code",
   "execution_count": null,
   "metadata": {},
   "outputs": [],
   "source": [
    "df.head()"
   ]
  },
  {
   "cell_type": "code",
   "execution_count": null,
   "metadata": {},
   "outputs": [],
   "source": [
    "df = df[['date', 'RSRP', 'RSRQ', 'SNR', 'CQI', 'RSSI', 'CellID', 'CellIDChange', 'UL_bitrate', 'DL_bitrate']]"
   ]
  },
  {
   "cell_type": "code",
   "execution_count": null,
   "metadata": {},
   "outputs": [],
   "source": [
    "df.to_csv('data/5Gdataset/download.csv', encoding='utf-8', index=False)"
   ]
  }
 ],
 "metadata": {
  "kernelspec": {
   "display_name": "informer2020",
   "language": "python",
   "name": "informer2020"
  },
  "language_info": {
   "codemirror_mode": {
    "name": "ipython",
    "version": 3
   },
   "file_extension": ".py",
   "mimetype": "text/x-python",
   "name": "python",
   "nbconvert_exporter": "python",
   "pygments_lexer": "ipython3",
   "version": "3.11.3"
  },
  "orig_nbformat": 4
 },
 "nbformat": 4,
 "nbformat_minor": 2
}
