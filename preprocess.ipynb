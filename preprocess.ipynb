{
 "cells": [
  {
   "cell_type": "code",
   "execution_count": null,
   "metadata": {},
   "outputs": [],
   "source": [
    "import pandas as pd\n",
    "import numpy as np\n",
    "import os\n",
    "cwd = os.getcwd()\n",
    "cwd"
   ]
  },
  {
   "cell_type": "code",
   "execution_count": null,
   "metadata": {},
   "outputs": [],
   "source": [
    "#https://en.wikipedia.org/wiki/Non-return-to-zero\n",
    "def NRZ_maker(values):\n",
    "    NRZ = []\n",
    "    state = None\n",
    "    prior = values[0]\n",
    "\n",
    "    for bit in values:\n",
    "        if bit == prior:\n",
    "            state = 1.0\n",
    "        else:\n",
    "            state = 0.0\n",
    "        NRZ.append(state)\n",
    "    return NRZ"
   ]
  },
  {
   "cell_type": "code",
   "execution_count": null,
   "metadata": {},
   "outputs": [],
   "source": [
    "test_array = np.array([6, 6, 6, 12, 12, 12, 6, 12, 12, 12, 6, 12, 12, 12, 6, 12, 12, 12, 6, 12, 12, 12, 6, 12, 12, 12, 6, 12, 12])\n",
    "test_df = pd.DataFrame({'values': test_array})\n",
    "values = test_df['values'].tolist()\n",
    "\n",
    "NRZ = []\n",
    "state = 0\n",
    "prior = values[0]\n",
    "for bit in values:\n",
    "    if bit == prior:\n",
    "        state = 1\n",
    "    else:\n",
    "        state = 0\n",
    "    NRZ.append(state)\n",
    "#NRZ\n",
    "\n",
    "test_df['NRZ'] = NRZ\n",
    "test_df.head()"
   ]
  },
  {
   "cell_type": "code",
   "execution_count": null,
   "metadata": {},
   "outputs": [],
   "source": [
    "values = test_df['values'].tolist()\n",
    "test_df['NRZ2'] = NRZ_maker(values)\n",
    "test_df.head()"
   ]
  },
  {
   "cell_type": "code",
   "execution_count": null,
   "metadata": {},
   "outputs": [],
   "source": [
    "PATH = '/data22/bde'\n",
    "netflix_StrangerThings = f'{PATH}/Data/5Gdataset-master/5G-production-dataset/Netflix/Driving/Season3-StrangerThings/'\n",
    "netflix_animated_RickandMorty = f'{PATH}/Data/5Gdataset-master/5G-production-dataset/Netflix/Driving/animated-RickandMorty/'\n",
    "amazon_TheExpanse = f'{PATH}/Data/5Gdataset-master/5G-production-dataset/Amazon_Prime/Driving/Season3-TheExpanse/'\n",
    "amazon_animated_AdventureTime = f'{PATH}/Data/5Gdataset-master/5G-production-dataset/Amazon_Prime/Driving/animated-AdventureTime/'\n",
    "download = f'{PATH}/Data/5Gdataset-master/5G-production-dataset/Download/Driving/'\n",
    "driving_streaming = f'{PATH}/Data/5Gdataset-master/5G-production-dataset/Driving-Streaming/'\n",
    "driving = f'{PATH}/Data/5Gdataset-master/5G-production-dataset/Driving/'\n",
    "df_list = []\n",
    "file_dir = download\n",
    "\n",
    "for file in os.listdir(file_dir)[:]:\n",
    "    print(file)\n",
    "    df = pd.read_csv(file_dir+file)\n",
    "    #df.info()\n",
    "\n",
    "    values = df['CellID'].tolist()\n",
    "    df['NRZ'] = NRZ_maker(values)\n",
    "    df['NRZ'] = df['NRZ'].astype('int32')\n",
    "\n",
    "    nrz_one_hot = pd.get_dummies(df['NRZ'], prefix='NRZ', dtype=int)\n",
    "    #nrz_one_hot.info()\n",
    "    df['NRZ_0'] = nrz_one_hot['NRZ_0']\n",
    "    df['NRZ_1'] = nrz_one_hot['NRZ_1']\n",
    "\n",
    "    df['CellIDChange'] = (df['CellID'] != df['CellID'].shift()).astype('int32')\n",
    "\n",
    "    cellid_one_hot = pd.get_dummies(df['CellIDChange'], prefix='CellIDChange', dtype=int)\n",
    "    #cellid_one_hot.info()\n",
    "    df['CellIDChange_0'] = cellid_one_hot['CellIDChange_0']\n",
    "    df['CellIDChange_1'] = cellid_one_hot['CellIDChange_1']\n",
    "    \n",
    "    df = df[['Timestamp', 'CellID', 'NRZ', 'NRZ_0', 'NRZ_1', 'CellIDChange', 'CellIDChange_0', 'CellIDChange_1', 'RSRP', 'RSRQ', 'SNR', 'CQI', 'RSSI', 'NRxRSRP', 'NRxRSRQ', 'DL_bitrate', 'UL_bitrate', 'Speed']]\n",
    "    df = df.replace('-', np.nan)\n",
    "    df = df.replace('2147483647.0', 0)\n",
    "    \n",
    "    df['date'] = pd.to_datetime(df['Timestamp'], format=\"%Y.%m.%d_%H.%M.%S\")\n",
    "    df = df.drop(columns=['Timestamp'])\n",
    "\n",
    "    #df.fillna(method='ffill', inplace=True)\n",
    "    df.fillna(0, inplace=True)\n",
    "\n",
    "    df['CellID'] = pd.to_numeric(df['CellID'])\n",
    "    df['NRZ'] = pd.to_numeric(df['NRZ'])\n",
    "    df['NRZ'] = pd.to_numeric(df['NRZ_0'])\n",
    "    df['NRZ'] = pd.to_numeric(df['NRZ_1'])\n",
    "\n",
    "    #df['RSRP'] = pd.to_numeric(df['RSRP'], downcast='integer')\n",
    "    df['RSRP'] = pd.to_numeric(df['RSRP'])\n",
    "    \n",
    "    df['RSRQ'] = pd.to_numeric(df['RSRQ'])\n",
    "    df['SNR'] = pd.to_numeric(df['SNR'], downcast='integer')\n",
    "    df['CQI'] = pd.to_numeric(df['CQI'], downcast='integer')\n",
    "    df['RSSI'] = pd.to_numeric(df['RSSI'], downcast='integer')\n",
    "    df['NRxRSRP'] = pd.to_numeric(df['NRxRSRP'], downcast='integer')\n",
    "    df['NRxRSRQ'] = pd.to_numeric(df['NRxRSRQ'], downcast='integer')\n",
    "    df['DL_bitrate'] = pd.to_numeric(df['DL_bitrate'])\n",
    "    df['UL_bitrate'] = pd.to_numeric(df['UL_bitrate'])\n",
    "\n",
    "    #df['RSRPoffset'] = df['RSRP'] - df['NRxRSRP']\n",
    "    #df['RSRQoffset'] = df['RSRQ'] - df['NRxRSRQ']\n",
    "\n",
    "    df.drop_duplicates(subset=['date'], inplace=True)\n",
    "    df.info()\n",
    "    #df.info(show_counts=True)\n",
    "    #print(df.head())\n",
    "    #df.plot(subplots=True, layout=(3,3), figsize=(40, 25))\n",
    "    #df.to_csv('5Gdataset-{}.csv'.format(file), encoding='utf-8', index=False)\n",
    "    df_list.append(df)"
   ]
  },
  {
   "cell_type": "code",
   "execution_count": null,
   "metadata": {},
   "outputs": [],
   "source": [
    "df = pd.concat(df_list, axis=0)\n",
    "df.sort_values('date', inplace=True)\n",
    "df.info()"
   ]
  },
  {
   "cell_type": "code",
   "execution_count": null,
   "metadata": {},
   "outputs": [],
   "source": [
    "df.head()"
   ]
  },
  {
   "cell_type": "code",
   "execution_count": null,
   "metadata": {},
   "outputs": [],
   "source": [
    "df = df[['date', 'CellID', 'RSRP', 'RSRQ', 'SNR', 'CQI', 'RSSI', 'NRxRSRP', 'NRxRSRQ', 'UL_bitrate', 'DL_bitrate']]\n",
    "df.info()"
   ]
  },
  {
   "cell_type": "code",
   "execution_count": null,
   "metadata": {},
   "outputs": [],
   "source": [
    "import seaborn as sns\n",
    "import matplotlib.pyplot as plt"
   ]
  },
  {
   "cell_type": "code",
   "execution_count": null,
   "metadata": {},
   "outputs": [],
   "source": [
    "def multi_corr(feature):\n",
    "    fig, ax = plt.subplots(1,3, figsize=(20, 6))\n",
    "\n",
    "    # when the Pearson and Spearman values are not much different, \n",
    "    # our data tends to not have extreme values (outliers)\n",
    "    corr1 = df.corr('pearson')[[feature]].sort_values(by=feature, ascending=False)\n",
    "    corr2 = df.corr('spearman')[[feature]].sort_values(by=feature, ascending=False)\n",
    "\n",
    "    corr3 = df.corr('kendall')[[feature]].sort_values(by=feature, ascending=False)\n",
    "    #ordinal correlation (Spearman & Kendall Tau)\n",
    "\n",
    "    sns.heatmap(corr1, ax=ax[0], annot=True)\n",
    "    sns.heatmap(corr2, ax=ax[1], annot=True)\n",
    "    sns.heatmap(corr3, ax=ax[2], annot=True)"
   ]
  },
  {
   "cell_type": "code",
   "execution_count": null,
   "metadata": {},
   "outputs": [],
   "source": [
    "multi_corr('DL_bitrate')"
   ]
  },
  {
   "cell_type": "code",
   "execution_count": null,
   "metadata": {},
   "outputs": [],
   "source": [
    "df.to_csv('data/5Gdataset/download.csv', encoding='utf-8', index=False)"
   ]
  },
  {
   "cell_type": "code",
   "execution_count": null,
   "metadata": {},
   "outputs": [],
   "source": [
    "# number of changes in values\n",
    "(df != df.shift(axis=0)).sum(axis=0)"
   ]
  }
 ],
 "metadata": {
  "kernelspec": {
   "display_name": "informer",
   "language": "python",
   "name": "informer"
  },
  "language_info": {
   "codemirror_mode": {
    "name": "ipython",
    "version": 3
   },
   "file_extension": ".py",
   "mimetype": "text/x-python",
   "name": "python",
   "nbconvert_exporter": "python",
   "pygments_lexer": "ipython3",
   "version": "3.10.12"
  },
  "orig_nbformat": 4
 },
 "nbformat": 4,
 "nbformat_minor": 2
}
