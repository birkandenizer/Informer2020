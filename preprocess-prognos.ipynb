{
 "cells": [
  {
   "cell_type": "code",
   "execution_count": null,
   "metadata": {},
   "outputs": [],
   "source": [
    "import pandas as pd\n",
    "pd.set_option(\"display.max_columns\", None)\n",
    "pd.set_option(\"display.max_rows\", None)"
   ]
  },
  {
   "cell_type": "code",
   "execution_count": null,
   "metadata": {},
   "outputs": [],
   "source": [
    "d1 = f'/data22/bde/Data/artifact/data/table3-system_evaluation/D1.csv'\n",
    "d2 = f'/data22/bde/Data/artifact/data/table3-system_evaluation/D2.csv'\n",
    "df = pd.read_csv(d2)\n",
    "df = df.drop(columns=['irat_rsrp', 'irat_rsrq'])\n",
    "df.info()\n",
    "#df.describe()\n",
    "df.head()"
   ]
  },
  {
   "cell_type": "code",
   "execution_count": null,
   "metadata": {},
   "outputs": [],
   "source": [
    "test = df.tail(-10000).head(-10000)\n",
    "test['date'] = pd.to_datetime(df['TIME_STAMP'])\n",
    "test = test.drop(columns=['TIME_STAMP'])\n",
    "test['technology'] = test['technology'].astype('category')\n",
    "test['lte_band'] = test['lte_band'].astype('category')\n",
    "test['nr_band'] = test['nr_band'].astype('category')\n",
    "test['lte_ho_category'] = test['lte_ho_category'].astype('category')\n",
    "test['nr_ho_category'] = test['nr_ho_category'].astype('category')\n",
    "test.info()\n",
    "test.head()"
   ]
  },
  {
   "cell_type": "code",
   "execution_count": null,
   "metadata": {},
   "outputs": [],
   "source": [
    "test['technology'].unique()"
   ]
  },
  {
   "cell_type": "code",
   "execution_count": null,
   "metadata": {},
   "outputs": [],
   "source": [
    "test['lte_band'].unique()"
   ]
  },
  {
   "cell_type": "code",
   "execution_count": null,
   "metadata": {},
   "outputs": [],
   "source": [
    "test['nr_band'].unique()"
   ]
  },
  {
   "cell_type": "code",
   "execution_count": null,
   "metadata": {},
   "outputs": [],
   "source": [
    "test['lte_ho_category'].unique()"
   ]
  },
  {
   "cell_type": "code",
   "execution_count": null,
   "metadata": {},
   "outputs": [],
   "source": [
    "test['nr_ho_category'].unique()"
   ]
  }
 ],
 "metadata": {
  "kernelspec": {
   "display_name": "informer2020",
   "language": "python",
   "name": "informer2020"
  },
  "language_info": {
   "codemirror_mode": {
    "name": "ipython",
    "version": 3
   },
   "file_extension": ".py",
   "mimetype": "text/x-python",
   "name": "python",
   "nbconvert_exporter": "python",
   "pygments_lexer": "ipython3",
   "version": "3.11.3"
  },
  "orig_nbformat": 4
 },
 "nbformat": 4,
 "nbformat_minor": 2
}
