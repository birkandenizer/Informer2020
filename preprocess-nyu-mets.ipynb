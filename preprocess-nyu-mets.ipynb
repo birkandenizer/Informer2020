{
 "cells": [
  {
   "cell_type": "code",
   "execution_count": 29,
   "metadata": {},
   "outputs": [],
   "source": [
    "import pandas as pd\n",
    "import numpy as np\n",
    "import utilities\n",
    "\n",
    "pd.set_option(\"display.max_columns\", None)\n",
    "pd.set_option(\"display.max_rows\", None)"
   ]
  },
  {
   "cell_type": "code",
   "execution_count": 30,
   "metadata": {},
   "outputs": [],
   "source": [
    "LINE = 'MM15'"
   ]
  },
  {
   "cell_type": "code",
   "execution_count": 31,
   "metadata": {},
   "outputs": [
    {
     "name": "stdout",
     "output_type": "stream",
     "text": [
      "<class 'pandas.core.frame.DataFrame'>\n",
      "RangeIndex: 23108 entries, 0 to 23107\n",
      "Data columns (total 8 columns):\n",
      " #   Column         Non-Null Count  Dtype  \n",
      "---  ------         --------------  -----  \n",
      " 0   bandwidth      23108 non-null  float64\n",
      " 1   LTE-neighbors  23108 non-null  float64\n",
      " 2   RSSI           23108 non-null  float64\n",
      " 3   RSRQ           23108 non-null  float64\n",
      " 4   ENodeB-change  23108 non-null  float64\n",
      " 5   time-advance   23108 non-null  float64\n",
      " 6   speed          23108 non-null  float64\n",
      " 7   band           23108 non-null  float64\n",
      "dtypes: float64(8)\n",
      "memory usage: 1.4 MB\n"
     ]
    }
   ],
   "source": [
    "file = f'/home/bde/Data/NYU-METS/Multivariate_Dataset/dataset/{LINE}/{LINE}.txt'\n",
    "\n",
    "df = pd.read_csv(file, names=['bandwidth', 'LTE-neighbors', 'RSSI', 'RSRQ', 'ENodeB-change', 'time-advance', 'speed', 'band'])\n",
    "#df = pd.read_csv(file, header=None)\n",
    "#df.isnull().values.any()\n",
    "df.info()"
   ]
  },
  {
   "cell_type": "code",
   "execution_count": 32,
   "metadata": {},
   "outputs": [
    {
     "name": "stdout",
     "output_type": "stream",
     "text": [
      "Memory usage of dataframe is 0.71 MB\n",
      "Memory usage after optimization is: 0.71 MB\n",
      "Decreased by 0.0%\n",
      "<class 'pandas.core.frame.DataFrame'>\n",
      "RangeIndex: 23108 entries, 0 to 23107\n",
      "Data columns (total 9 columns):\n",
      " #   Column         Non-Null Count  Dtype         \n",
      "---  ------         --------------  -----         \n",
      " 0   bandwidth      23108 non-null  float32       \n",
      " 1   LTE-neighbors  23108 non-null  float32       \n",
      " 2   RSSI           23108 non-null  float32       \n",
      " 3   RSRQ           23108 non-null  float32       \n",
      " 4   ENodeB-change  23108 non-null  float32       \n",
      " 5   time-advance   23108 non-null  float32       \n",
      " 6   speed          23108 non-null  float32       \n",
      " 7   band           23108 non-null  float32       \n",
      " 8   date           23108 non-null  datetime64[ns]\n",
      "dtypes: datetime64[ns](1), float32(8)\n",
      "memory usage: 902.8 KB\n"
     ]
    }
   ],
   "source": [
    "df['bandwidth'] = pd.to_numeric(df['bandwidth'], downcast='float')\n",
    "df['LTE-neighbors'] = pd.to_numeric(df['LTE-neighbors'], downcast='float')\n",
    "df['RSSI'] = pd.to_numeric(df['RSSI'], downcast='float')\n",
    "df['RSRQ'] = pd.to_numeric(df['RSRQ'], downcast='float')\n",
    "df['ENodeB-change'] = pd.to_numeric(df['ENodeB-change'], downcast='float')\n",
    "df['time-advance'] = pd.to_numeric(df['time-advance'], downcast='float')\n",
    "df['speed'] = pd.to_numeric(df['speed'], downcast='float')\n",
    "df['band'] = pd.to_numeric(df['band'], downcast='float')\n",
    "\n",
    "df = utilities.reduce_mem_usage_32(df)\n",
    "\n",
    "df['date'] = pd.date_range(start='1/1/2023', periods=len(df), freq='S')\n",
    "df.head()\n",
    "\n",
    "df.info()\n",
    "#df.info(show_counts=True)\n",
    "#df.head()\n",
    "#df.plot(subplots=True, layout=(3,3), figsize=(40, 25))\n",
    "#df.to_csv('5Gdataset-{}.csv'.format(file), encoding='utf-8', index=False)"
   ]
  },
  {
   "cell_type": "code",
   "execution_count": 33,
   "metadata": {},
   "outputs": [
    {
     "data": {
      "text/html": [
       "<div>\n",
       "<style scoped>\n",
       "    .dataframe tbody tr th:only-of-type {\n",
       "        vertical-align: middle;\n",
       "    }\n",
       "\n",
       "    .dataframe tbody tr th {\n",
       "        vertical-align: top;\n",
       "    }\n",
       "\n",
       "    .dataframe thead th {\n",
       "        text-align: right;\n",
       "    }\n",
       "</style>\n",
       "<table border=\"1\" class=\"dataframe\">\n",
       "  <thead>\n",
       "    <tr style=\"text-align: right;\">\n",
       "      <th></th>\n",
       "      <th>bandwidth</th>\n",
       "      <th>LTE-neighbors</th>\n",
       "      <th>RSSI</th>\n",
       "      <th>RSRQ</th>\n",
       "      <th>ENodeB-change</th>\n",
       "      <th>time-advance</th>\n",
       "      <th>speed</th>\n",
       "      <th>band</th>\n",
       "      <th>date</th>\n",
       "    </tr>\n",
       "  </thead>\n",
       "  <tbody>\n",
       "    <tr>\n",
       "      <th>0</th>\n",
       "      <td>19.000000</td>\n",
       "      <td>5.0</td>\n",
       "      <td>0.0</td>\n",
       "      <td>67.0</td>\n",
       "      <td>14.0</td>\n",
       "      <td>1.0</td>\n",
       "      <td>0.0</td>\n",
       "      <td>1900.0</td>\n",
       "      <td>2023-01-01 00:00:00</td>\n",
       "    </tr>\n",
       "    <tr>\n",
       "      <th>1</th>\n",
       "      <td>15.900000</td>\n",
       "      <td>5.0</td>\n",
       "      <td>0.0</td>\n",
       "      <td>67.0</td>\n",
       "      <td>14.0</td>\n",
       "      <td>1.0</td>\n",
       "      <td>0.0</td>\n",
       "      <td>1900.0</td>\n",
       "      <td>2023-01-01 00:00:01</td>\n",
       "    </tr>\n",
       "    <tr>\n",
       "      <th>2</th>\n",
       "      <td>18.299999</td>\n",
       "      <td>5.0</td>\n",
       "      <td>0.0</td>\n",
       "      <td>67.0</td>\n",
       "      <td>14.0</td>\n",
       "      <td>1.0</td>\n",
       "      <td>0.0</td>\n",
       "      <td>1900.0</td>\n",
       "      <td>2023-01-01 00:00:02</td>\n",
       "    </tr>\n",
       "    <tr>\n",
       "      <th>3</th>\n",
       "      <td>20.799999</td>\n",
       "      <td>4.0</td>\n",
       "      <td>0.0</td>\n",
       "      <td>65.0</td>\n",
       "      <td>13.0</td>\n",
       "      <td>0.0</td>\n",
       "      <td>0.0</td>\n",
       "      <td>1900.0</td>\n",
       "      <td>2023-01-01 00:00:03</td>\n",
       "    </tr>\n",
       "    <tr>\n",
       "      <th>4</th>\n",
       "      <td>15.900000</td>\n",
       "      <td>4.0</td>\n",
       "      <td>0.0</td>\n",
       "      <td>65.0</td>\n",
       "      <td>13.0</td>\n",
       "      <td>0.0</td>\n",
       "      <td>0.0</td>\n",
       "      <td>1900.0</td>\n",
       "      <td>2023-01-01 00:00:04</td>\n",
       "    </tr>\n",
       "  </tbody>\n",
       "</table>\n",
       "</div>"
      ],
      "text/plain": [
       "   bandwidth  LTE-neighbors  RSSI  RSRQ  ENodeB-change  time-advance  speed  \\\n",
       "0  19.000000            5.0   0.0  67.0           14.0           1.0    0.0   \n",
       "1  15.900000            5.0   0.0  67.0           14.0           1.0    0.0   \n",
       "2  18.299999            5.0   0.0  67.0           14.0           1.0    0.0   \n",
       "3  20.799999            4.0   0.0  65.0           13.0           0.0    0.0   \n",
       "4  15.900000            4.0   0.0  65.0           13.0           0.0    0.0   \n",
       "\n",
       "     band                date  \n",
       "0  1900.0 2023-01-01 00:00:00  \n",
       "1  1900.0 2023-01-01 00:00:01  \n",
       "2  1900.0 2023-01-01 00:00:02  \n",
       "3  1900.0 2023-01-01 00:00:03  \n",
       "4  1900.0 2023-01-01 00:00:04  "
      ]
     },
     "execution_count": 33,
     "metadata": {},
     "output_type": "execute_result"
    }
   ],
   "source": [
    "df.head()"
   ]
  },
  {
   "cell_type": "code",
   "execution_count": 34,
   "metadata": {},
   "outputs": [],
   "source": [
    "df.to_csv(f'data/NYU-METS/{LINE}.csv', encoding='utf-8', index=False)"
   ]
  }
 ],
 "metadata": {
  "kernelspec": {
   "display_name": "informer",
   "language": "python",
   "name": "informer"
  },
  "language_info": {
   "codemirror_mode": {
    "name": "ipython",
    "version": 3
   },
   "file_extension": ".py",
   "mimetype": "text/x-python",
   "name": "python",
   "nbconvert_exporter": "python",
   "pygments_lexer": "ipython3",
   "version": "3.10.6"
  },
  "orig_nbformat": 4
 },
 "nbformat": 4,
 "nbformat_minor": 2
}
