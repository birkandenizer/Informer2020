{
 "cells": [
  {
   "cell_type": "code",
   "execution_count": null,
   "metadata": {},
   "outputs": [],
   "source": [
    "import pandas as pd\n",
    "import numpy as np\n",
    "from sklearn.metrics import mean_squared_error, mean_absolute_error\n",
    "\n",
    "import utilities\n",
    "\n",
    "pd.set_option(\"display.max_columns\", None)\n",
    "pd.set_option(\"display.max_rows\", None)"
   ]
  },
  {
   "cell_type": "code",
   "execution_count": null,
   "metadata": {},
   "outputs": [],
   "source": [
    "LINE = 'MM15'\n",
    "# BB16      22282\n",
    "# BB61      21179\n",
    "# BB62      22005\n",
    "# MM15      23108\n",
    "# TT7       15122"
   ]
  },
  {
   "cell_type": "code",
   "execution_count": null,
   "metadata": {},
   "outputs": [],
   "source": [
    "\"\"\" BUS_LINES = ['BB16', 'BB61', 'BB62', 'MM15']\n",
    "\n",
    "df_list = []\n",
    "for bus in BUS_LINES:\n",
    "    file = f'/work/bde/Data/NYU-METS/Multivariate_Dataset/dataset/{LINE}/{LINE}.txt'\n",
    "\n",
    "    df_list.append(pd.read_csv(file, names=['bandwidth', 'LTE-neighbors', 'RSSI', 'RSRQ', 'ENodeB-change', 'time-advance', 'speed', 'band']))\n",
    "\n",
    "df = pd.concat(df_list)\n",
    "df.info() \"\"\""
   ]
  },
  {
   "cell_type": "code",
   "execution_count": null,
   "metadata": {},
   "outputs": [],
   "source": [
    "file = f'/work/bde/Data/NYU-METS/Multivariate_Dataset/dataset/{LINE}/{LINE}.txt'\n",
    "\n",
    "df = pd.read_csv(file, names=['bandwidth', 'LTE-neighbors', 'RSSI', 'RSRQ', 'ENodeB-change', 'time-advance', 'speed', 'band'])\n",
    "#df = pd.read_csv(file, header=None)\n",
    "#df.isnull().values.any()\n",
    "df.info()"
   ]
  },
  {
   "cell_type": "code",
   "execution_count": null,
   "metadata": {},
   "outputs": [],
   "source": [
    "df['bandwidth'] = pd.to_numeric(df['bandwidth'])\n",
    "df['LTE-neighbors'] = pd.to_numeric(df['LTE-neighbors'])\n",
    "df['RSSI'] = pd.to_numeric(df['RSSI'])\n",
    "df['RSRQ'] = pd.to_numeric(df['RSRQ'])\n",
    "df['ENodeB-change'] = pd.to_numeric(df['ENodeB-change'])\n",
    "df['time-advance'] = pd.to_numeric(df['time-advance'])\n",
    "df['speed'] = pd.to_numeric(df['speed'])\n",
    "df['band'] = pd.to_numeric(df['band'])\n",
    "\n",
    "df = utilities.reduce_mem_usage_32(df)\n",
    "\n",
    "df['date'] = pd.date_range(start='1/1/2023', periods=len(df), freq='S')\n",
    "df.head()\n",
    "\n",
    "df.info()\n",
    "#df.info(show_counts=True)\n",
    "#df.head()\n",
    "#df.plot(subplots=True, layout=(3,3), figsize=(40, 25))\n",
    "#df.to_csv('5Gdataset-{}.csv'.format(file), encoding='utf-8', index=False)"
   ]
  },
  {
   "cell_type": "code",
   "execution_count": null,
   "metadata": {},
   "outputs": [],
   "source": [
    "df.head()"
   ]
  },
  {
   "cell_type": "code",
   "execution_count": null,
   "metadata": {},
   "outputs": [],
   "source": [
    "df.to_csv(f'/work/bde/Data/NYU-preprocessed/{LINE}/{LINE}.csv', encoding='utf-8', index=False)\n",
    "df.to_csv(f'data/NYU-METS/{LINE}.csv', encoding='utf-8', index=False)\n",
    "\n",
    "#df.to_csv(f'/work/bde/Data/NYU-preprocessed/BUS_LINES.csv', encoding='utf-8', index=False)\n",
    "#df.to_csv(f'data/NYU-METS/BUS_LINES.csv', encoding='utf-8', index=False)"
   ]
  },
  {
   "cell_type": "code",
   "execution_count": null,
   "metadata": {},
   "outputs": [],
   "source": [
    "import seaborn as sns\n",
    "import matplotlib.pyplot as plt"
   ]
  },
  {
   "cell_type": "code",
   "execution_count": null,
   "metadata": {},
   "outputs": [],
   "source": [
    "def multi_corr(feature):\n",
    "    fig, ax = plt.subplots(1,3, figsize=(20, 6))\n",
    "\n",
    "    # when the Pearson and Spearman values are not much different, \n",
    "    # our data tends to not have extreme values (outliers)\n",
    "    corr1 = df.corr('pearson')[[feature]].sort_values(by=feature, ascending=False)\n",
    "    corr2 = df.corr('spearman')[[feature]].sort_values(by=feature, ascending=False)\n",
    "\n",
    "    corr3 = df.corr('kendall')[[feature]].sort_values(by=feature, ascending=False)\n",
    "    #ordinal correlation (Spearman & Kendall Tau)\n",
    "\n",
    "    sns.heatmap(corr1, ax=ax[0], annot=True)\n",
    "    sns.heatmap(corr2, ax=ax[1], annot=True)\n",
    "    sns.heatmap(corr3, ax=ax[2], annot=True)\n",
    "\n",
    "    return corr1, corr2, corr3"
   ]
  },
  {
   "cell_type": "code",
   "execution_count": null,
   "metadata": {},
   "outputs": [],
   "source": [
    "corr1, corr2, corr3 = multi_corr('bandwidth')"
   ]
  },
  {
   "cell_type": "code",
   "execution_count": null,
   "metadata": {},
   "outputs": [],
   "source": [
    "corr1['corr1'] = corr1\n",
    "corr1['corr2'] = corr2\n",
    "corr1['corr3'] = corr3\n",
    "\n",
    "corr_df = corr1[['corr1', 'corr2', 'corr3']]\n",
    "corr_df['average'] = corr_df.mean(axis=1)\n",
    "corr_df"
   ]
  },
  {
   "cell_type": "code",
   "execution_count": null,
   "metadata": {},
   "outputs": [],
   "source": [
    "len(df) * 0.2\n",
    "scope = 4621"
   ]
  },
  {
   "cell_type": "code",
   "execution_count": null,
   "metadata": {},
   "outputs": [],
   "source": [
    "df.tail(scope)['bandwidth'].head()"
   ]
  },
  {
   "cell_type": "code",
   "execution_count": null,
   "metadata": {},
   "outputs": [],
   "source": [
    "#bandwidth_tail = df.tail(scope*2).head(scope)['bandwidth'].to_numpy()\n",
    "tail = df.tail(scope)\n",
    "type(tail)"
   ]
  },
  {
   "cell_type": "code",
   "execution_count": null,
   "metadata": {},
   "outputs": [],
   "source": [
    "tail = tail[['bandwidth']]\n",
    "type(tail)"
   ]
  },
  {
   "cell_type": "code",
   "execution_count": null,
   "metadata": {},
   "outputs": [],
   "source": [
    "tail.head()"
   ]
  },
  {
   "cell_type": "code",
   "execution_count": null,
   "metadata": {},
   "outputs": [],
   "source": [
    "\"\"\" test_data = np.arange(50)\n",
    "tail = pd.DataFrame({'bandwidth': test_data})\n",
    "tail.head() \"\"\""
   ]
  },
  {
   "cell_type": "code",
   "execution_count": null,
   "metadata": {},
   "outputs": [],
   "source": [
    "span = 8\n",
    "pred_len = 48\n",
    "\n",
    "truth = []\n",
    "ewma8 = []\n",
    "shifted = []\n",
    "\n",
    "tail['EWMA8'] = tail['bandwidth'].ewm(span=span, min_periods=8, adjust=True).mean()\n",
    "\n",
    "b_truth  = tail['bandwidth'].to_numpy()\n",
    "b_ewma8 = tail['EWMA8'].to_numpy()\n",
    "\n",
    "tail.head(30)"
   ]
  },
  {
   "cell_type": "code",
   "execution_count": null,
   "metadata": {},
   "outputs": [],
   "source": [
    "#b_truth[(span):(span+pred_len)]"
   ]
  },
  {
   "cell_type": "code",
   "execution_count": null,
   "metadata": {},
   "outputs": [],
   "source": [
    "#b_ewma8[0+span-1]"
   ]
  },
  {
   "cell_type": "code",
   "execution_count": null,
   "metadata": {},
   "outputs": [],
   "source": [
    "#b_truth[0+span-1]"
   ]
  },
  {
   "cell_type": "code",
   "execution_count": null,
   "metadata": {},
   "outputs": [],
   "source": [
    "for i in range(len(b_truth) - span - pred_len):\n",
    "    truth.append(b_truth[(i+span):(i+span+pred_len)])\n",
    "    ewma8.append(np.repeat(b_ewma8[i+span-1], pred_len)) #correct?\n",
    "    #ewma8.append(np.repeat(b_ewma8[i+span-0], pred_len)) #informer\n",
    "    shifted.append(np.repeat(b_truth[i+span-1], pred_len))\n",
    "\n",
    "#EWMA\n",
    "rmse = mean_squared_error(truth, ewma8, squared=False)\n",
    "mae = mean_absolute_error(truth, ewma8)\n",
    "print(f'EWMA8 rmse: {rmse}, mae: {mae}')\n",
    "\n",
    "#Shifted\n",
    "rmse = mean_squared_error(truth, shifted, squared=False)\n",
    "mae = mean_absolute_error(truth, shifted)\n",
    "print(f'Shifted rmse: {rmse}, mae: {mae}')"
   ]
  }
 ],
 "metadata": {
  "kernelspec": {
   "display_name": "informer",
   "language": "python",
   "name": "informer"
  },
  "language_info": {
   "codemirror_mode": {
    "name": "ipython",
    "version": 3
   },
   "file_extension": ".py",
   "mimetype": "text/x-python",
   "name": "python",
   "nbconvert_exporter": "python",
   "pygments_lexer": "ipython3",
   "version": "3.10.12"
  },
  "orig_nbformat": 4
 },
 "nbformat": 4,
 "nbformat_minor": 2
}
