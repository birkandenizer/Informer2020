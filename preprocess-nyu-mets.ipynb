{
 "cells": [
  {
   "cell_type": "code",
   "execution_count": null,
   "metadata": {},
   "outputs": [],
   "source": [
    "import pandas as pd\n",
    "import numpy as np\n",
    "import utilities\n",
    "\n",
    "from sklearn.metrics import mean_absolute_percentage_error, mean_squared_error, mean_absolute_error\n",
    "\n",
    "pd.set_option(\"display.max_columns\", None)\n",
    "pd.set_option(\"display.max_rows\", None)"
   ]
  },
  {
   "cell_type": "code",
   "execution_count": null,
   "metadata": {},
   "outputs": [],
   "source": [
    "LINE = 'BB62'"
   ]
  },
  {
   "cell_type": "code",
   "execution_count": null,
   "metadata": {},
   "outputs": [],
   "source": [
    "file = f'/data22/bde/Data/NYU-METS/Multivariate_Dataset/dataset/{LINE}/{LINE}.txt'\n",
    "\n",
    "df = pd.read_csv(file, names=['bandwidth', 'LTE-neighbors', 'RSSI', 'RSRQ', 'ENodeB-change', 'time-advance', 'speed', 'band'])\n",
    "#df = pd.read_csv(file, header=None)\n",
    "#df.isnull().values.any()\n",
    "df.info()"
   ]
  },
  {
   "cell_type": "code",
   "execution_count": null,
   "metadata": {},
   "outputs": [],
   "source": [
    "df['bandwidth'] = pd.to_numeric(df['bandwidth'], downcast='float')\n",
    "df['LTE-neighbors'] = pd.to_numeric(df['LTE-neighbors'], downcast='float')\n",
    "df['RSSI'] = pd.to_numeric(df['RSSI'], downcast='float')\n",
    "df['RSRQ'] = pd.to_numeric(df['RSRQ'], downcast='float')\n",
    "df['ENodeB-change'] = pd.to_numeric(df['ENodeB-change'], downcast='float')\n",
    "df['time-advance'] = pd.to_numeric(df['time-advance'], downcast='float')\n",
    "df['speed'] = pd.to_numeric(df['speed'], downcast='float')\n",
    "df['band'] = pd.to_numeric(df['band'], downcast='float')\n",
    "\n",
    "df = utilities.reduce_mem_usage_32(df)\n",
    "\n",
    "df['date'] = pd.date_range(start='1/1/2023', periods=len(df), freq='S')\n",
    "df.head()\n",
    "\n",
    "df.info()\n",
    "#df.info(show_counts=True)\n",
    "#df.head()\n",
    "#df.plot(subplots=True, layout=(3,3), figsize=(40, 25))\n",
    "#df.to_csv('5Gdataset-{}.csv'.format(file), encoding='utf-8', index=False)"
   ]
  },
  {
   "cell_type": "code",
   "execution_count": null,
   "metadata": {},
   "outputs": [],
   "source": [
    "df.head()"
   ]
  },
  {
   "cell_type": "code",
   "execution_count": null,
   "metadata": {},
   "outputs": [],
   "source": [
    "df.to_csv(f'data/NYU-METS/{LINE}.csv', encoding='utf-8', index=False)"
   ]
  },
  {
   "cell_type": "code",
   "execution_count": null,
   "metadata": {},
   "outputs": [],
   "source": [
    "df['bandwidth-shifted'] = df['bandwidth'].shift(1)\n",
    "tail = df.tail(4621)\n",
    "tail.head()\n",
    "#df['bandwidth'].tail(200).plot()"
   ]
  },
  {
   "cell_type": "code",
   "execution_count": null,
   "metadata": {},
   "outputs": [],
   "source": [
    "tail[['bandwidth', 'bandwidth-shifted']].head(100).plot(figsize=(50, 20))\n",
    "#df['bandwidth'].tail(200).plot()"
   ]
  },
  {
   "cell_type": "code",
   "execution_count": null,
   "metadata": {},
   "outputs": [],
   "source": [
    "true = tail['bandwidth']\n",
    "pred = tail['bandwidth-shifted']"
   ]
  },
  {
   "cell_type": "code",
   "execution_count": null,
   "metadata": {},
   "outputs": [],
   "source": [
    "mape = mean_absolute_percentage_error(true, pred)\n",
    "mape"
   ]
  },
  {
   "cell_type": "code",
   "execution_count": null,
   "metadata": {},
   "outputs": [],
   "source": [
    "mse = mean_squared_error(true, pred)\n",
    "mse"
   ]
  },
  {
   "cell_type": "code",
   "execution_count": null,
   "metadata": {},
   "outputs": [],
   "source": [
    "mae = mean_absolute_error(true, pred)\n",
    "mae"
   ]
  }
 ],
 "metadata": {
  "kernelspec": {
   "display_name": "informer2020",
   "language": "python",
   "name": "informer2020"
  },
  "language_info": {
   "codemirror_mode": {
    "name": "ipython",
    "version": 3
   },
   "file_extension": ".py",
   "mimetype": "text/x-python",
   "name": "python",
   "nbconvert_exporter": "python",
   "pygments_lexer": "ipython3",
   "version": "3.11.3"
  },
  "orig_nbformat": 4
 },
 "nbformat": 4,
 "nbformat_minor": 2
}
