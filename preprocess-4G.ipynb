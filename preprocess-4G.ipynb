{
 "cells": [
  {
   "cell_type": "code",
   "execution_count": null,
   "metadata": {},
   "outputs": [],
   "source": [
    "import pandas as pd\n",
    "import numpy as np\n",
    "import os\n",
    "cwd = os.getcwd()\n",
    "cwd\n",
    "\n",
    "pd.set_option(\"display.max_columns\", None)\n",
    "pd.set_option(\"display.max_rows\", None)\n",
    "SCOPE = 100"
   ]
  },
  {
   "cell_type": "code",
   "execution_count": null,
   "metadata": {},
   "outputs": [],
   "source": [
    "test = pd.DataFrame([(0.0, np.nan, -1.0, 1.0),\n",
    "                   (np.nan, 2.0, np.nan, np.nan),\n",
    "                   (np.nan, 2.0, np.nan, np.nan),\n",
    "                   (np.nan, 2.0, np.nan, np.nan),\n",
    "                   (np.nan, 2.0, np.nan, np.nan),\n",
    "                   (np.nan, 2.0, np.nan, np.nan),\n",
    "                   (2.0, 3.0, np.nan, 9.0),\n",
    "                   (np.nan, 4.0, -4.0, 16.0)],\n",
    "                  columns=list('abcd'))\n",
    "test"
   ]
  },
  {
   "cell_type": "code",
   "execution_count": null,
   "metadata": {},
   "outputs": [],
   "source": [
    "#test.interpolate(method='linear', axis=0)\n",
    "test.interpolate(method='linear', limit_direction='both', axis=0)\n",
    "#test.interpolate(method='polynomial', order=2)"
   ]
  },
  {
   "cell_type": "code",
   "execution_count": null,
   "metadata": {},
   "outputs": [],
   "source": [
    "PATH = '/home/bde'\n",
    "MOBILITY = 'car'\n",
    "download = f'{PATH}/Data/4Gdataset/{MOBILITY}/'\n",
    "df_list = []\n",
    "file_dir = download\n",
    "\n",
    "for file in os.listdir(file_dir)[:]:\n",
    "    print(file)\n",
    "    df = pd.read_csv(file_dir+file)\n",
    "    #print(df.head())\n",
    "    \n",
    "    df = df[['Timestamp', 'Speed', 'CellID', 'RSRP', 'RSRQ', 'SNR', 'CQI', 'RSSI', 'DL_bitrate', 'UL_bitrate', 'NRxRSRP', 'NRxRSRQ']]\n",
    "    df = df.replace('-', np.nan)\n",
    "    \n",
    "    df['date'] = pd.to_datetime(df['Timestamp'], format=\"%Y.%m.%d_%H.%M.%S\")\n",
    "    df = df.drop(columns=['Timestamp'])\n",
    "\n",
    "    df['CellID'] = pd.to_numeric(df['CellID'])\n",
    "    df['RSRP'] = pd.to_numeric(df['RSRP'])\n",
    "    df['RSRQ'] = pd.to_numeric(df['RSRQ'])\n",
    "    df['SNR'] = pd.to_numeric(df['SNR'])\n",
    "    df['CQI'] = pd.to_numeric(df['CQI'])\n",
    "    df['RSSI'] = pd.to_numeric(df['RSSI'])\n",
    "    df['DL_bitrate'] = pd.to_numeric(df['DL_bitrate'])\n",
    "    df['UL_bitrate'] = pd.to_numeric(df['UL_bitrate'])\n",
    "    df['NRxRSRP'] = pd.to_numeric(df['NRxRSRP'])\n",
    "    df['NRxRSRQ'] = pd.to_numeric(df['NRxRSRQ'])\n",
    "\n",
    "    df.interpolate(method='linear', limit_direction='both', axis=0, inplace=True)\n",
    "    #df.fillna(method='ffill', inplace=True)\n",
    "    #df.fillna(method='ffill', inplace=True, limit=5)\n",
    "    df.fillna(0, inplace=True)\n",
    "\n",
    "    df.drop_duplicates(subset=['date'], inplace=True)\n",
    "    df.sort_values('date', inplace=True)\n",
    "    df.info()\n",
    "    #df.info(show_counts=True)\n",
    "    #print(df.head())\n",
    "    #df.plot(subplots=True, layout=(3,3), figsize=(40, 25))\n",
    "    #df.to_csv('5Gdataset-{}.csv'.format(file), encoding='utf-8', index=False)\n",
    "    df_list.append(df)"
   ]
  },
  {
   "cell_type": "code",
   "execution_count": null,
   "metadata": {},
   "outputs": [],
   "source": [
    "df = pd.concat(df_list, axis=0)\n",
    "df.sort_values('date', inplace=True)\n",
    "df.info()"
   ]
  },
  {
   "cell_type": "code",
   "execution_count": null,
   "metadata": {},
   "outputs": [],
   "source": [
    "df.head()"
   ]
  },
  {
   "cell_type": "code",
   "execution_count": null,
   "metadata": {},
   "outputs": [],
   "source": [
    "df.info()"
   ]
  },
  {
   "cell_type": "code",
   "execution_count": null,
   "metadata": {},
   "outputs": [],
   "source": [
    "import seaborn as sns\n",
    "import matplotlib.pyplot as plt"
   ]
  },
  {
   "cell_type": "code",
   "execution_count": null,
   "metadata": {},
   "outputs": [],
   "source": [
    "def multi_corr(feature):\n",
    "    fig, ax = plt.subplots(1,3, figsize=(20, 6))\n",
    "\n",
    "    # when the Pearson and Spearman values are not much different, \n",
    "    # our data tends to not have extreme values (outliers)\n",
    "    corr1 = df.corr('pearson')[[feature]].sort_values(by=feature, ascending=False)\n",
    "    corr2 = df.corr('spearman')[[feature]].sort_values(by=feature, ascending=False)\n",
    "\n",
    "    corr3 = df.corr('kendall')[[feature]].sort_values(by=feature, ascending=False)\n",
    "    #ordinal correlation (Spearman & Kendall Tau)\n",
    "\n",
    "    sns.heatmap(corr1, ax=ax[0], annot=True)\n",
    "    sns.heatmap(corr2, ax=ax[1], annot=True)\n",
    "    sns.heatmap(corr3, ax=ax[2], annot=True)"
   ]
  },
  {
   "cell_type": "code",
   "execution_count": null,
   "metadata": {},
   "outputs": [],
   "source": [
    "multi_corr('DL_bitrate')"
   ]
  },
  {
   "cell_type": "code",
   "execution_count": null,
   "metadata": {},
   "outputs": [],
   "source": [
    "df.to_csv(f'data/4Gdataset/{MOBILITY}.csv', encoding='utf-8', index=False)"
   ]
  },
  {
   "cell_type": "code",
   "execution_count": null,
   "metadata": {},
   "outputs": [],
   "source": [
    "# number of changes in values\n",
    "(df != df.shift(axis=0)).sum(axis=0)"
   ]
  }
 ],
 "metadata": {
  "kernelspec": {
   "display_name": "informer",
   "language": "python",
   "name": "informer"
  },
  "language_info": {
   "codemirror_mode": {
    "name": "ipython",
    "version": 3
   },
   "file_extension": ".py",
   "mimetype": "text/x-python",
   "name": "python",
   "nbconvert_exporter": "python",
   "pygments_lexer": "ipython3",
   "version": "3.10.12"
  },
  "orig_nbformat": 4
 },
 "nbformat": 4,
 "nbformat_minor": 2
}
