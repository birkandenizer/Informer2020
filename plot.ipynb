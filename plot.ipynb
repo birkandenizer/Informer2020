{
 "cells": [
  {
   "cell_type": "code",
   "execution_count": null,
   "metadata": {},
   "outputs": [],
   "source": [
    "import numpy as np\n",
    "import pandas as pd\n",
    "\n",
    "from sklearn.metrics import mean_absolute_percentage_error, mean_squared_error, mean_absolute_error\n",
    "\n",
    "# importing matplotlib module\n",
    "import matplotlib.pyplot as plt\n",
    "plt.style.use('default')\n",
    "  \n",
    "# %matplotlib inline: only draw static\n",
    "# images in the notebook\n",
    "%matplotlib inline\n",
    "\n",
    "pd.set_option(\"display.max_columns\", None)\n",
    "pd.set_option(\"display.max_rows\", None)\n",
    "\n",
    "import os\n",
    "cwd = os.getcwd()\n",
    "cwd"
   ]
  },
  {
   "cell_type": "code",
   "execution_count": null,
   "metadata": {},
   "outputs": [],
   "source": [
    "PATH = cwd\n",
    "# MM15 informer_4G_ftMS_sl96_ll48_pl1_dm512_nh8_el2_dl1_df2048_atprob_fc5_ebtimeF_dtTrue_mxTrue_test_0\n",
    "# BB62 informer_4G_ftMS_sl96_ll48_pl1_dm512_nh8_el2_dl1_df2048_atprob_fc5_ebtimeF_dtTrue_mxTrue_test_3\n",
    "DATA = 'informer_4G_ftMS_sl96_ll48_pl1_dm512_nh8_el2_dl1_df2048_atprob_fc5_ebtimeF_dtTrue_mxTrue_test_3' # 4GDataset\n",
    "# CQI informer_5G_a_ftMS_sl96_ll48_pl1_dm512_nh8_el2_dl1_df2048_atprob_fc5_ebtimeF_dtTrue_mxTrue_test_1\n",
    "# 5G Download informer_5G_ftMS_sl96_ll48_pl1_dm512_nh8_el2_dl1_df2048_atprob_fc5_ebtimeF_dtTrue_mxTrue_test_1\n",
    "#DATA = 'informer_5G_b_ftMS_sl12_ll6_pl1_dm512_nh8_el2_dl1_df2048_atprob_fc5_ebtimeF_dtTrue_mxTrue_test_2' # BerlinV2X\n",
    "#DATA = 'informer_5G_ftMS_sl96_ll48_pl1_dm512_nh8_el2_dl1_df2048_atprob_fc5_ebtimeF_dtTrue_mxTrue_test_0' # 5G\n",
    "#DATA = 'informer_5G_ftMS_sl96_ll48_pl2_dm512_nh8_el2_dl1_df2048_atprob_fc5_ebtimeF_dtTrue_mxTrue_test_0'\n",
    "UNIVARIATE = True\n",
    "shift_by = 1"
   ]
  },
  {
   "cell_type": "code",
   "execution_count": null,
   "metadata": {},
   "outputs": [],
   "source": [
    "metrics = np.load(f'{PATH}/results/{DATA}/metrics.npy')\n",
    "metrics"
   ]
  },
  {
   "cell_type": "code",
   "execution_count": null,
   "metadata": {},
   "outputs": [],
   "source": [
    "real_prediction = np.load(f'{PATH}/results/{DATA}/real_prediction.npy')\n",
    "real_prediction"
   ]
  },
  {
   "cell_type": "code",
   "execution_count": null,
   "metadata": {},
   "outputs": [],
   "source": [
    "true = np.load(f'{PATH}/results/{DATA}/true.npy')\n",
    "print(true.shape)\n",
    "pred = np.load(f'{PATH}/results/{DATA}/pred.npy')\n",
    "print(pred.shape)"
   ]
  },
  {
   "cell_type": "code",
   "execution_count": null,
   "metadata": {},
   "outputs": [],
   "source": [
    "if UNIVARIATE:\n",
    "    df = pd.DataFrame({'true': true.flatten(), 'pred': pred.flatten()})\n",
    "    shifted = df['true'].shift(shift_by)\n",
    "\n",
    "    true = df['true']\n",
    "    pred = df['pred']\n",
    "    \n",
    "    print('used true[1:], pred[1:] and shifted[1:]')\n",
    "    print(f'rmse for true vs pred: {mean_squared_error(true[shift_by:], pred[shift_by:], squared=False)}, true vs shifted {mean_squared_error(true[shift_by:], shifted[shift_by:], squared=False)}')\n",
    "    print(f'mae for true vs pred: {mean_absolute_error(true[shift_by:], pred[shift_by:])}, true vs shifted {mean_absolute_error(true[shift_by:], shifted[shift_by:])}')\n",
    "    print(f'mse for true vs pred: {mean_squared_error(true[shift_by:], pred[shift_by:])}, true vs shifted {mean_squared_error(true[shift_by:], shifted[shift_by:])}')\n",
    "\n",
    "    ylabel = 'Kbps' #Kbps\n",
    "    fig_size = (10, 4)\n",
    "    df.plot(figsize=fig_size)\n",
    "    #plt.title('Prediction on LTE dataset')\n",
    "    # adding Label to the x-axis\n",
    "    plt.xlabel('Seconds')\n",
    "    plt.ylabel(ylabel) #\n",
    "    # adding legend to the curve\n",
    "    plt.legend(bbox_to_anchor=(0.4, 0.4))\n",
    "    plt.savefig(f'plots/{DATA}-full.pdf', bbox_inches='tight')\n",
    "    plt.savefig(f'plots/{DATA}-full.png', bbox_inches='tight')\n",
    "\n",
    "    scope = 60\n",
    "    df.head(scope).plot(figsize=fig_size)\n",
    "    #plt.title('Prediction on LTE dataset')\n",
    "    # adding Label to the x-axis\n",
    "    plt.xlabel('Seconds')\n",
    "    plt.ylabel(ylabel)\n",
    "    # adding legend to the curve\n",
    "    plt.legend(bbox_to_anchor=(0.21, 0.4))\n",
    "    plt.savefig(f'plots/{DATA}-{scope}.pdf', bbox_inches='tight')\n",
    "    plt.savefig(f'plots/{DATA}-{scope}.png', bbox_inches='tight')\n",
    "\n",
    "    scope2 = scope *2\n",
    "    df.head(scope2).plot(figsize=fig_size)\n",
    "    #plt.title('Prediction on LTE dataset')\n",
    "    # adding Label to the x-axis\n",
    "    plt.xlabel('Seconds')\n",
    "    plt.ylabel(ylabel)\n",
    "    # adding legend to the curve\n",
    "    plt.legend(bbox_to_anchor=(0.21, 0.4))\n",
    "    plt.savefig(f'plots/{DATA}-{scope2}.pdf', bbox_inches='tight')\n",
    "    plt.savefig(f'plots/{DATA}-{scope2}.png', bbox_inches='tight')\n",
    "\n",
    "    scope3 = scope *3\n",
    "    df.head(scope3).plot(figsize=fig_size)\n",
    "    #plt.title('Prediction on LTE dataset')\n",
    "    # adding Label to the x-axis\n",
    "    plt.xlabel('Seconds')\n",
    "    plt.ylabel(ylabel)\n",
    "    # adding legend to the curve\n",
    "    plt.legend(bbox_to_anchor=(0.21, 0.4))\n",
    "    plt.savefig(f'plots/{DATA}-{scope3}.pdf', bbox_inches='tight')\n",
    "    plt.savefig(f'plots/{DATA}-{scope3}.png', bbox_inches='tight')"
   ]
  },
  {
   "cell_type": "code",
   "execution_count": null,
   "metadata": {},
   "outputs": [],
   "source": [
    "if not UNIVARIATE:\n",
    "    df_true = pd.DataFrame.from_records(true)\n",
    "    df_pred = pd.DataFrame.from_records(pred)\n",
    "    df_shifted = df_true.shift(shift_by)\n",
    "\n",
    "    print(f'used df_true[{shift_by}:], df_pred[{shift_by}:] and shifted[{shift_by}:]')\n",
    "    print(f'rmse for true vs pred: {mean_squared_error(df_true[shift_by:], df_pred[shift_by:], squared=False)}, true vs shifted {mean_squared_error(df_true[shift_by:], df_shifted[shift_by:], squared=False)}')\n",
    "    print(f'mae for true vs pred: {mean_absolute_error(df_true[shift_by:], df_pred[shift_by:])}, true vs shifted {mean_absolute_error(df_true[shift_by:], df_shifted[shift_by:])}')\n",
    "    print(f'mse for true vs pred: {mean_squared_error(df_true[shift_by:], df_pred[shift_by:])}, true vs shifted {mean_squared_error(df_true[shift_by:], df_shifted[shift_by:])}')\n",
    "\n",
    "    #plt.figure(figsize=(16, 8), dpi=150)\n",
    "\n",
    "    #df_true_0.plot(subplots=True, label='true')\n",
    "    #df_pred_0.plot(subplots=True, label='pred')\n",
    "\n",
    "    #plt.title('Informer Multivariate')\n",
    "    # adding Label to the x-axis\n",
    "    #plt.xlabel('Years')\n",
    "    # adding legend to the curve\n",
    "    #plt.legend()"
   ]
  }
 ],
 "metadata": {
  "kernelspec": {
   "display_name": "informer",
   "language": "python",
   "name": "informer"
  },
  "language_info": {
   "codemirror_mode": {
    "name": "ipython",
    "version": 3
   },
   "file_extension": ".py",
   "mimetype": "text/x-python",
   "name": "python",
   "nbconvert_exporter": "python",
   "pygments_lexer": "ipython3",
   "version": "3.10.12"
  },
  "orig_nbformat": 4
 },
 "nbformat": 4,
 "nbformat_minor": 2
}
