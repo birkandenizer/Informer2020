{
 "cells": [
  {
   "cell_type": "code",
   "execution_count": null,
   "metadata": {},
   "outputs": [],
   "source": [
    "import numpy as np\n",
    "import pandas as pd\n",
    "\n",
    "# importing matplotlib module\n",
    "import matplotlib.pyplot as plt\n",
    "plt.style.use('default')\n",
    "  \n",
    "# %matplotlib inline: only draw static\n",
    "# images in the notebook\n",
    "%matplotlib inline\n",
    "\n",
    "pd.set_option(\"display.max_columns\", None)\n",
    "pd.set_option(\"display.max_rows\", None)\n",
    "\n",
    "import os\n",
    "cwd = os.getcwd()\n",
    "cwd"
   ]
  },
  {
   "cell_type": "code",
   "execution_count": null,
   "metadata": {},
   "outputs": [],
   "source": [
    "PATH = cwd\n",
    "DATA = 'informer_4G_ftMS_sl96_ll48_pl1_dm512_nh8_el2_dl1_df2048_atprob_fc5_ebtimeF_dtTrue_mxTrue_test_0'"
   ]
  },
  {
   "cell_type": "code",
   "execution_count": null,
   "metadata": {},
   "outputs": [],
   "source": [
    "metrics = np.load(f'{PATH}/results/{DATA}/metrics.npy')\n",
    "metrics"
   ]
  },
  {
   "cell_type": "code",
   "execution_count": null,
   "metadata": {},
   "outputs": [],
   "source": [
    "real_prediction = np.load(f'{PATH}/results/{DATA}/real_prediction.npy')\n",
    "real_prediction"
   ]
  },
  {
   "cell_type": "code",
   "execution_count": null,
   "metadata": {},
   "outputs": [],
   "source": [
    "true = np.load(f'{PATH}/results/{DATA}/true.npy')\n",
    "pred = np.load(f'{PATH}/results/{DATA}/pred.npy')\n",
    "\n",
    "print(true.shape)\n",
    "print(pred.shape)"
   ]
  },
  {
   "cell_type": "code",
   "execution_count": null,
   "metadata": {},
   "outputs": [],
   "source": [
    "df_true = pd.DataFrame.from_records(true)\n",
    "df_true.head()"
   ]
  },
  {
   "cell_type": "code",
   "execution_count": null,
   "metadata": {},
   "outputs": [],
   "source": [
    "df_pred = pd.DataFrame.from_records(pred)\n",
    "df_pred.head()"
   ]
  },
  {
   "cell_type": "code",
   "execution_count": null,
   "metadata": {},
   "outputs": [],
   "source": [
    "UNIVARIATE = True\n",
    "if UNIVARIATE:\n",
    "    df = pd.DataFrame({'true': true.flatten(), 'pred': pred.flatten()})\n",
    "\n",
    "    df.plot(figsize=(5, 2))\n",
    "    #plt.title('Prediction on LTE dataset')\n",
    "    # adding Label to the x-axis\n",
    "    plt.xlabel('Seconds')\n",
    "    plt.ylabel('Mbits/s')\n",
    "    # adding legend to the curve\n",
    "    plt.legend(bbox_to_anchor=(0.4, 0.4))\n",
    "    plt.savefig(f'plots/{DATA}-full.pdf', bbox_inches='tight')\n",
    "\n",
    "    df.head(100).plot(figsize=(5, 2))\n",
    "    #plt.title('Prediction on LTE dataset')\n",
    "    # adding Label to the x-axis\n",
    "    plt.xlabel('Seconds')\n",
    "    plt.ylabel('Mbits/s')\n",
    "    # adding legend to the curve\n",
    "    plt.legend(bbox_to_anchor=(0.21, 0.4))\n",
    "    plt.savefig(f'plots/{DATA}-100.pdf', bbox_inches='tight')  \n"
   ]
  },
  {
   "cell_type": "code",
   "execution_count": null,
   "metadata": {},
   "outputs": [],
   "source": [
    "MULTI_VARIATE = False\n",
    "if MULTI_VARIATE:\n",
    "    df_true_0 = pd.DataFrame.from_records(df_true.iloc[0])\n",
    "    df_pred_0 = pd.DataFrame.from_records(df_pred.iloc[0])\n",
    "\n",
    "    plt.figure(figsize=(16, 8), dpi=150)\n",
    "\n",
    "    df_true_0.plot(subplots=True, label='true')\n",
    "    df_pred_0.plot(subplots=True, label='pred')\n",
    "\n",
    "    plt.title('Informer Multivariate')\n",
    "    # adding Label to the x-axis\n",
    "    #plt.xlabel('Years')\n",
    "    # adding legend to the curve\n",
    "    plt.legend()"
   ]
  }
 ],
 "metadata": {
  "kernelspec": {
   "display_name": "informer2020",
   "language": "python",
   "name": "informer2020"
  },
  "language_info": {
   "codemirror_mode": {
    "name": "ipython",
    "version": 3
   },
   "file_extension": ".py",
   "mimetype": "text/x-python",
   "name": "python",
   "nbconvert_exporter": "python",
   "pygments_lexer": "ipython3",
   "version": "3.11.3"
  },
  "orig_nbformat": 4
 },
 "nbformat": 4,
 "nbformat_minor": 2
}
