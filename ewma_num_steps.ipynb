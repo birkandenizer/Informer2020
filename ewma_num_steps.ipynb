{
 "cells": [
  {
   "cell_type": "code",
   "execution_count": 160,
   "metadata": {},
   "outputs": [],
   "source": [
    "import pandas as pd"
   ]
  },
  {
   "cell_type": "code",
   "execution_count": 161,
   "metadata": {},
   "outputs": [],
   "source": [
    "def calculate_ewma_steps(data, span, num_steps):\n",
    "    \"\"\"\n",
    "    Calculate Exponential Weighted Moving Averages (EWMA) for a specific number of steps\n",
    "    using the last span number of values as the basis for each step.\n",
    "\n",
    "    Args:\n",
    "        data (pandas Series): The input time-series data as a Pandas Series.\n",
    "        span (int): The number of past data points to consider for each step.\n",
    "        num_steps (int): The number of future time steps to forecast.\n",
    "    \"\"\"\n",
    "    \n",
    "    for step in range(num_steps):        \n",
    "        if step == 0:\n",
    "            first_n = data[step][1:].to_numpy()\n",
    "            ewm = data.ewm(span=span, adjust=True).mean()\n",
    "            first_n.append(ewm[0][-1:].to_numpy())\n",
    "            data[step+1] = first_n\n",
    "\n",
    "        else:\n",
    "            previous_ewma = data[step+1]\n",
    "            next_ewma = previous_ewma.ewm(span=span, adjust=True).mean()\n",
    "            data[step+1] = next_ewma"
   ]
  },
  {
   "cell_type": "code",
   "execution_count": 162,
   "metadata": {},
   "outputs": [
    {
     "data": {
      "text/html": [
       "<div>\n",
       "<style scoped>\n",
       "    .dataframe tbody tr th:only-of-type {\n",
       "        vertical-align: middle;\n",
       "    }\n",
       "\n",
       "    .dataframe tbody tr th {\n",
       "        vertical-align: top;\n",
       "    }\n",
       "\n",
       "    .dataframe thead th {\n",
       "        text-align: right;\n",
       "    }\n",
       "</style>\n",
       "<table border=\"1\" class=\"dataframe\">\n",
       "  <thead>\n",
       "    <tr style=\"text-align: right;\">\n",
       "      <th></th>\n",
       "      <th>0</th>\n",
       "    </tr>\n",
       "  </thead>\n",
       "  <tbody>\n",
       "    <tr>\n",
       "      <th>0</th>\n",
       "      <td>11</td>\n",
       "    </tr>\n",
       "    <tr>\n",
       "      <th>1</th>\n",
       "      <td>12</td>\n",
       "    </tr>\n",
       "    <tr>\n",
       "      <th>2</th>\n",
       "      <td>13</td>\n",
       "    </tr>\n",
       "    <tr>\n",
       "      <th>3</th>\n",
       "      <td>14</td>\n",
       "    </tr>\n",
       "    <tr>\n",
       "      <th>4</th>\n",
       "      <td>15</td>\n",
       "    </tr>\n",
       "    <tr>\n",
       "      <th>5</th>\n",
       "      <td>16</td>\n",
       "    </tr>\n",
       "    <tr>\n",
       "      <th>6</th>\n",
       "      <td>17</td>\n",
       "    </tr>\n",
       "    <tr>\n",
       "      <th>7</th>\n",
       "      <td>18</td>\n",
       "    </tr>\n",
       "  </tbody>\n",
       "</table>\n",
       "</div>"
      ],
      "text/plain": [
       "    0\n",
       "0  11\n",
       "1  12\n",
       "2  13\n",
       "3  14\n",
       "4  15\n",
       "5  16\n",
       "6  17\n",
       "7  18"
      ]
     },
     "execution_count": 162,
     "metadata": {},
     "output_type": "execute_result"
    }
   ],
   "source": [
    "# Example usage:\n",
    "data = [11, 12, 13, 14, 15, 16, 17, 18]\n",
    "alpha = 0.2  # Smoothing factor\n",
    "span = 8  # Number of last inputs to consider\n",
    "num_steps = 1  # Number of future time steps to forecast\n",
    "\n",
    "# Convert the list to a Pandas Series\n",
    "data_series = pd.DataFrame(data)\n",
    "data_series"
   ]
  },
  {
   "cell_type": "code",
   "execution_count": 163,
   "metadata": {},
   "outputs": [
    {
     "data": {
      "text/plain": [
       "array([18])"
      ]
     },
     "execution_count": 163,
     "metadata": {},
     "output_type": "execute_result"
    }
   ],
   "source": [
    "data_series[0][-1:].to_numpy()"
   ]
  },
  {
   "cell_type": "code",
   "execution_count": 164,
   "metadata": {},
   "outputs": [
    {
     "ename": "AttributeError",
     "evalue": "'numpy.ndarray' object has no attribute 'append'",
     "output_type": "error",
     "traceback": [
      "\u001b[0;31m---------------------------------------------------------------------------\u001b[0m",
      "\u001b[0;31mAttributeError\u001b[0m                            Traceback (most recent call last)",
      "\u001b[1;32m/work/bde/Git/Informer2020/ewma_num_steps.ipynb Cell 5\u001b[0m line \u001b[0;36m1\n\u001b[0;32m----> <a href='vscode-notebook-cell://ssh-remote%2Bhydra2/work/bde/Git/Informer2020/ewma_num_steps.ipynb#W6sdnNjb2RlLXJlbW90ZQ%3D%3D?line=0'>1</a>\u001b[0m calculate_ewma_steps(data_series, span, num_steps)\n\u001b[1;32m      <a href='vscode-notebook-cell://ssh-remote%2Bhydra2/work/bde/Git/Informer2020/ewma_num_steps.ipynb#W6sdnNjb2RlLXJlbW90ZQ%3D%3D?line=1'>2</a>\u001b[0m data_series\n",
      "\u001b[1;32m/work/bde/Git/Informer2020/ewma_num_steps.ipynb Cell 5\u001b[0m line \u001b[0;36m1\n\u001b[1;32m     <a href='vscode-notebook-cell://ssh-remote%2Bhydra2/work/bde/Git/Informer2020/ewma_num_steps.ipynb#W6sdnNjb2RlLXJlbW90ZQ%3D%3D?line=13'>14</a>\u001b[0m     first_n \u001b[39m=\u001b[39m data[step][\u001b[39m1\u001b[39m:]\u001b[39m.\u001b[39mto_numpy()\n\u001b[1;32m     <a href='vscode-notebook-cell://ssh-remote%2Bhydra2/work/bde/Git/Informer2020/ewma_num_steps.ipynb#W6sdnNjb2RlLXJlbW90ZQ%3D%3D?line=14'>15</a>\u001b[0m     ewm \u001b[39m=\u001b[39m data\u001b[39m.\u001b[39mewm(span\u001b[39m=\u001b[39mspan, adjust\u001b[39m=\u001b[39m\u001b[39mTrue\u001b[39;00m)\u001b[39m.\u001b[39mmean()\n\u001b[0;32m---> <a href='vscode-notebook-cell://ssh-remote%2Bhydra2/work/bde/Git/Informer2020/ewma_num_steps.ipynb#W6sdnNjb2RlLXJlbW90ZQ%3D%3D?line=15'>16</a>\u001b[0m     first_n\u001b[39m.\u001b[39;49mappend(ewm[\u001b[39m0\u001b[39m][\u001b[39m-\u001b[39m\u001b[39m1\u001b[39m:]\u001b[39m.\u001b[39mto_numpy())\n\u001b[1;32m     <a href='vscode-notebook-cell://ssh-remote%2Bhydra2/work/bde/Git/Informer2020/ewma_num_steps.ipynb#W6sdnNjb2RlLXJlbW90ZQ%3D%3D?line=16'>17</a>\u001b[0m     data[step\u001b[39m+\u001b[39m\u001b[39m1\u001b[39m] \u001b[39m=\u001b[39m first_n\n\u001b[1;32m     <a href='vscode-notebook-cell://ssh-remote%2Bhydra2/work/bde/Git/Informer2020/ewma_num_steps.ipynb#W6sdnNjb2RlLXJlbW90ZQ%3D%3D?line=18'>19</a>\u001b[0m \u001b[39melse\u001b[39;00m:\n",
      "\u001b[0;31mAttributeError\u001b[0m: 'numpy.ndarray' object has no attribute 'append'"
     ]
    }
   ],
   "source": [
    "calculate_ewma_steps(data_series, span, num_steps)\n",
    "data_series"
   ]
  }
 ],
 "metadata": {
  "kernelspec": {
   "display_name": "informer",
   "language": "python",
   "name": "informer"
  },
  "language_info": {
   "codemirror_mode": {
    "name": "ipython",
    "version": 3
   },
   "file_extension": ".py",
   "mimetype": "text/x-python",
   "name": "python",
   "nbconvert_exporter": "python",
   "pygments_lexer": "ipython3",
   "version": "3.10.12"
  }
 },
 "nbformat": 4,
 "nbformat_minor": 2
}
