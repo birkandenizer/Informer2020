{
 "cells": [
  {
   "cell_type": "code",
   "execution_count": null,
   "metadata": {},
   "outputs": [],
   "source": [
    "import pandas as pd\n",
    "import numpy as np\n",
    "import os\n",
    "cwd = os.getcwd()\n",
    "cwd"
   ]
  },
  {
   "cell_type": "code",
   "execution_count": null,
   "metadata": {},
   "outputs": [],
   "source": [
    "PATH = '/data22/bde'\n",
    "download = f'{PATH}/Data/5Gdataset-master/5G-production-dataset/Download/Driving/'\n",
    "df_list = []\n",
    "file_dir = download\n",
    "\n",
    "for file in os.listdir(file_dir)[:]:\n",
    "    print(file)\n",
    "    df = pd.read_csv(file_dir+file)\n",
    "    #print(df.head())\n",
    "    \n",
    "    df = df[['Timestamp', 'Speed', 'CellID', 'RSRP', 'RSRQ', 'SNR', 'CQI', 'RSSI', 'DL_bitrate', 'UL_bitrate']]\n",
    "    df = df.replace('-', np.nan)\n",
    "    \n",
    "    df['date'] = pd.to_datetime(df['Timestamp'], format=\"%Y.%m.%d_%H.%M.%S\")\n",
    "    df = df.drop(columns=['Timestamp'])\n",
    "\n",
    "    df.fillna(method='ffill', inplace=True)\n",
    "    #df.fillna(method='ffill', inplace=True, limit=5)\n",
    "    df.fillna(0, inplace=True)\n",
    "\n",
    "    df['CellID'] = pd.to_numeric(df['CellID'])\n",
    "    \n",
    "    #df['RSRP'] = pd.to_numeric(df['RSRP'], downcast='integer')\n",
    "    df['RSRP'] = pd.to_numeric(df['RSRP'])\n",
    "    \n",
    "    df['RSRQ'] = pd.to_numeric(df['RSRQ'])\n",
    "    df['SNR'] = pd.to_numeric(df['SNR'], downcast='integer')\n",
    "    df['CQI'] = pd.to_numeric(df['CQI'], downcast='integer')\n",
    "    df['RSSI'] = pd.to_numeric(df['RSSI'], downcast='integer')\n",
    "    df['DL_bitrate'] = pd.to_numeric(df['DL_bitrate'])\n",
    "    df['UL_bitrate'] = pd.to_numeric(df['UL_bitrate'])\n",
    "\n",
    "    df.drop_duplicates(subset=['date'], inplace=True)\n",
    "    df.info()\n",
    "    #df.info(show_counts=True)\n",
    "    #print(df.head())\n",
    "    #df.plot(subplots=True, layout=(3,3), figsize=(40, 25))\n",
    "    #df.to_csv('5Gdataset-{}.csv'.format(file), encoding='utf-8', index=False)\n",
    "    df_list.append(df)"
   ]
  },
  {
   "cell_type": "code",
   "execution_count": null,
   "metadata": {},
   "outputs": [],
   "source": [
    "df = pd.concat(df_list, axis=0)\n",
    "df.sort_values('date', inplace=True)\n",
    "df.info()"
   ]
  },
  {
   "cell_type": "code",
   "execution_count": null,
   "metadata": {},
   "outputs": [],
   "source": [
    "df.head()"
   ]
  },
  {
   "cell_type": "code",
   "execution_count": null,
   "metadata": {},
   "outputs": [],
   "source": [
    "df = df[['date', 'Speed', 'CellID', 'RSRP', 'RSRQ', 'SNR', 'CQI', 'RSSI', 'DL_bitrate', 'UL_bitrate']]\n",
    "df.info()"
   ]
  },
  {
   "cell_type": "code",
   "execution_count": null,
   "metadata": {},
   "outputs": [],
   "source": [
    "import seaborn as sns\n",
    "import matplotlib.pyplot as plt"
   ]
  },
  {
   "cell_type": "code",
   "execution_count": null,
   "metadata": {},
   "outputs": [],
   "source": [
    "def multi_corr(feature):\n",
    "    fig, ax = plt.subplots(1,3, figsize=(20, 6))\n",
    "\n",
    "    # when the Pearson and Spearman values are not much different, \n",
    "    # our data tends to not have extreme values (outliers)\n",
    "    corr1 = df.corr('pearson')[[feature]].sort_values(by=feature, ascending=False)\n",
    "    corr2 = df.corr('spearman')[[feature]].sort_values(by=feature, ascending=False)\n",
    "\n",
    "    corr3 = df.corr('kendall')[[feature]].sort_values(by=feature, ascending=False)\n",
    "    #ordinal correlation (Spearman & Kendall Tau)\n",
    "\n",
    "    sns.heatmap(corr1, ax=ax[0], annot=True)\n",
    "    sns.heatmap(corr2, ax=ax[1], annot=True)\n",
    "    sns.heatmap(corr3, ax=ax[2], annot=True)"
   ]
  },
  {
   "cell_type": "code",
   "execution_count": null,
   "metadata": {},
   "outputs": [],
   "source": [
    "multi_corr('DL_bitrate')"
   ]
  },
  {
   "cell_type": "code",
   "execution_count": null,
   "metadata": {},
   "outputs": [],
   "source": [
    "df.to_csv('data/5Gdataset/download.csv', encoding='utf-8', index=False)"
   ]
  },
  {
   "cell_type": "code",
   "execution_count": null,
   "metadata": {},
   "outputs": [],
   "source": [
    "# number of changes in values\n",
    "(df != df.shift(axis=0)).sum(axis=0)"
   ]
  }
 ],
 "metadata": {
  "kernelspec": {
   "display_name": "informer2020",
   "language": "python",
   "name": "informer2020"
  },
  "language_info": {
   "codemirror_mode": {
    "name": "ipython",
    "version": 3
   },
   "file_extension": ".py",
   "mimetype": "text/x-python",
   "name": "python",
   "nbconvert_exporter": "python",
   "pygments_lexer": "ipython3",
   "version": "3.11.3"
  },
  "orig_nbformat": 4
 },
 "nbformat": 4,
 "nbformat_minor": 2
}
